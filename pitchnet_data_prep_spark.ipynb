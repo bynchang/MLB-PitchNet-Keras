{
 "cells": [
  {
   "cell_type": "code",
   "execution_count": 1,
   "metadata": {},
   "outputs": [],
   "source": [
    "import numpy as np\n",
    "import pandas as pd\n",
    "import seaborn as sns"
   ]
  },
  {
   "cell_type": "code",
   "execution_count": 2,
   "metadata": {},
   "outputs": [],
   "source": [
    "from pyspark.sql import SparkSession\n",
    "from pyspark.sql import Window\n",
    "from pyspark.sql.types import *\n",
    "import pyspark.sql.functions as F"
   ]
  },
  {
   "cell_type": "code",
   "execution_count": 3,
   "metadata": {},
   "outputs": [],
   "source": [
    "sc = SparkSession.builder.getOrCreate()"
   ]
  },
  {
   "cell_type": "markdown",
   "metadata": {},
   "source": [
    "# Data preperation for PitchNet"
   ]
  },
  {
   "cell_type": "code",
   "execution_count": 4,
   "metadata": {},
   "outputs": [],
   "source": [
    "baseball = sc.read.parquet('./baseball_savant.parquet')"
   ]
  },
  {
   "cell_type": "code",
   "execution_count": 5,
   "metadata": {},
   "outputs": [],
   "source": [
    "baseball = baseball.select('pitch_type','game_date','pitcher','p_throws','player_name','pfx_x','pfx_z','release_speed')"
   ]
  },
  {
   "cell_type": "code",
   "execution_count": 6,
   "metadata": {},
   "outputs": [
    {
     "data": {
      "text/plain": [
       "3646300"
      ]
     },
     "execution_count": 6,
     "metadata": {},
     "output_type": "execute_result"
    }
   ],
   "source": [
    "baseball.count()"
   ]
  },
  {
   "cell_type": "code",
   "execution_count": 7,
   "metadata": {},
   "outputs": [],
   "source": [
    "baseball = baseball.na.drop()"
   ]
  },
  {
   "cell_type": "code",
   "execution_count": 8,
   "metadata": {},
   "outputs": [
    {
     "data": {
      "text/plain": [
       "3629838"
      ]
     },
     "execution_count": 8,
     "metadata": {},
     "output_type": "execute_result"
    }
   ],
   "source": [
    "baseball.count()"
   ]
  },
  {
   "cell_type": "code",
   "execution_count": 9,
   "metadata": {},
   "outputs": [],
   "source": [
    "baseball = baseball.withColumn('game_date',baseball.game_date.cast(DateType()))\n",
    "baseball = baseball.withColumn('game_year',F.year(baseball.game_date))\n",
    "baseball = baseball.withColumn('game_month',F.month(baseball.game_date))\n",
    "baseball = baseball.withColumnRenamed('pfx_x','horizontal_break')\n",
    "baseball = baseball.withColumnRenamed('pfx_z','vertical_break')\n",
    "baseball = baseball.withColumn('idx', F.monotonically_increasing_id())"
   ]
  },
  {
   "cell_type": "code",
   "execution_count": 10,
   "metadata": {},
   "outputs": [
    {
     "name": "stdout",
     "output_type": "stream",
     "text": [
      "+----------+----------+-------+--------+-----------+-----------------+------------------+-------------+---------+----------+-----+--------------------+\n",
      "|pitch_type| game_date|pitcher|p_throws|player_name| horizontal_break|    vertical_break|release_speed|game_year|game_month|  idx|season_total_pitches|\n",
      "+----------+----------+-------+--------+-----------+-----------------+------------------+-------------+---------+----------+-----+--------------------+\n",
      "|        FT|2017-07-15| 425492|       R|Ryan Madson| -1.2152526818938| 0.993839644932961|         96.1|     2017|         7|32953|                 929|\n",
      "|        FT|2017-07-15| 425492|       R|Ryan Madson|-1.29308094077011| 0.910182884625976|         95.9|     2017|         7|32954|                 929|\n",
      "|        FT|2017-07-15| 425492|       R|Ryan Madson|-1.19077934677773| 0.684373302559358|         94.2|     2017|         7|32955|                 929|\n",
      "|        FT|2017-07-15| 425492|       R|Ryan Madson|-1.34445394610972| 0.505212550403798|         94.7|     2017|         7|32956|                 929|\n",
      "|        FF|2017-07-15| 425492|       R|Ryan Madson|-1.16349073055578|  1.02009492422768|         94.8|     2017|         7|32957|                 929|\n",
      "|        FF|2017-07-15| 425492|       R|Ryan Madson|-1.05071203731975|   1.5454333113782|         94.4|     2017|         7|32958|                 929|\n",
      "|        CH|2017-07-15| 425492|       R|Ryan Madson|-1.05104517161829| 0.708071135288151|         86.2|     2017|         7|32959|                 929|\n",
      "|        FT|2017-07-15| 425492|       R|Ryan Madson|-1.49529894892056| 0.672329729977459|         95.8|     2017|         7|32960|                 929|\n",
      "|        FT|2017-07-15| 425492|       R|Ryan Madson| -1.6053868706106| 0.696847252378756|         94.6|     2017|         7|32961|                 929|\n",
      "|        CH|2017-07-15| 425492|       R|Ryan Madson| -1.2609643798167| 0.848967078680443|         87.1|     2017|         7|32962|                 929|\n",
      "|        FT|2017-07-15| 425492|       R|Ryan Madson|-1.29639737846962| 0.913295415180416|         93.5|     2017|         7|32963|                 929|\n",
      "|        FT|2017-07-15| 425492|       R|Ryan Madson|-1.44875393174916| 0.479886157389878|         91.8|     2017|         7|32964|                 929|\n",
      "|        FF|2017-07-14| 425492|       R|Ryan Madson|-1.09155547849618|  1.24557604722333|         96.1|     2017|         7|33123|                 929|\n",
      "|        FT|2017-07-14| 425492|       R|Ryan Madson|-1.35953584294055| 0.655322049692857|         95.4|     2017|         7|33124|                 929|\n",
      "|        FT|2017-07-14| 425492|       R|Ryan Madson|-1.13001593281968| 0.808432356720799|         96.0|     2017|         7|33125|                 929|\n",
      "|        CU|2017-07-14| 425492|       R|Ryan Madson|0.246621457143044|  -1.2744008822394|         84.4|     2017|         7|33126|                 929|\n",
      "|        FT|2017-07-14| 425492|       R|Ryan Madson|-1.45581966158673| 0.810923662736051|         96.9|     2017|         7|33127|                 929|\n",
      "|        FF|2017-07-14| 425492|       R|Ryan Madson| -1.2119783451272|  1.58175717480596|         96.7|     2017|         7|33128|                 929|\n",
      "|        CU|2017-07-14| 425492|       R|Ryan Madson|0.190261416016852|-0.932323524406329|         84.8|     2017|         7|33129|                 929|\n",
      "|        FT|2017-07-14| 425492|       R|Ryan Madson|-1.31635831474577|  1.06068428662935|         97.0|     2017|         7|33130|                 929|\n",
      "+----------+----------+-------+--------+-----------+-----------------+------------------+-------------+---------+----------+-----+--------------------+\n",
      "only showing top 20 rows\n",
      "\n"
     ]
    }
   ],
   "source": [
    "baseball.show()"
   ]
  },
  {
   "cell_type": "code",
   "execution_count": 12,
   "metadata": {},
   "outputs": [
    {
     "name": "stdout",
     "output_type": "stream",
     "text": [
      "+----------+-------+\n",
      "|pitch_type|  count|\n",
      "+----------+-------+\n",
      "|        FT| 401239|\n",
      "|        SC|    113|\n",
      "|        SL| 583237|\n",
      "|        FC| 202561|\n",
      "|        EP|    867|\n",
      "|        FF|1296645|\n",
      "|        FS|  54809|\n",
      "|        PO|    630|\n",
      "|        KC|  89087|\n",
      "|        IN|   6390|\n",
      "|        CH| 378308|\n",
      "|        CU| 299183|\n",
      "|        FO|    845|\n",
      "|        UN|     20|\n",
      "|        KN|  11453|\n",
      "|        FA|     10|\n",
      "|        SI| 304441|\n",
      "+----------+-------+\n",
      "\n"
     ]
    }
   ],
   "source": [
    "baseball.groupby('pitch_type').count().show()"
   ]
  },
  {
   "cell_type": "code",
   "execution_count": 13,
   "metadata": {},
   "outputs": [],
   "source": [
    "# keeping pitch types that are more common\n",
    "valid_pitch_type = ['CH','CU','FS','KC','SL','SI','FF','FC','FT']\n",
    "baseball = baseball.filter(baseball.pitch_type.isin(valid_pitch_type))"
   ]
  },
  {
   "cell_type": "code",
   "execution_count": 14,
   "metadata": {},
   "outputs": [
    {
     "data": {
      "text/plain": [
       "3609510"
      ]
     },
     "execution_count": 14,
     "metadata": {},
     "output_type": "execute_result"
    }
   ],
   "source": [
    "baseball.count()"
   ]
  },
  {
   "cell_type": "code",
   "execution_count": 15,
   "metadata": {},
   "outputs": [],
   "source": [
    "# create a column that gives a pitcher's total pitcher in a season. \n",
    "window = Window.partitionBy('pitcher','game_year')\n",
    "baseball = baseball.withColumn('season_total_pitches',F.count('*').over(window))"
   ]
  },
  {
   "cell_type": "code",
   "execution_count": 16,
   "metadata": {},
   "outputs": [
    {
     "name": "stdout",
     "output_type": "stream",
     "text": [
      "root\n",
      " |-- pitch_type: string (nullable = true)\n",
      " |-- game_date: date (nullable = true)\n",
      " |-- pitcher: integer (nullable = true)\n",
      " |-- p_throws: string (nullable = true)\n",
      " |-- player_name: string (nullable = true)\n",
      " |-- horizontal_break: double (nullable = true)\n",
      " |-- vertical_break: double (nullable = true)\n",
      " |-- release_speed: double (nullable = true)\n",
      " |-- game_year: integer (nullable = true)\n",
      " |-- game_month: integer (nullable = true)\n",
      " |-- idx: long (nullable = false)\n",
      " |-- season_total_pitches: long (nullable = false)\n",
      "\n"
     ]
    }
   ],
   "source": [
    "# output file\n",
    "baseball.printSchema()"
   ]
  },
  {
   "cell_type": "code",
   "execution_count": 20,
   "metadata": {},
   "outputs": [],
   "source": [
    "#baseball.write.mode('overwrite').parquet('pitch_prediction_data.parquet')"
   ]
  }
 ],
 "metadata": {
  "kernelspec": {
   "display_name": "Python 3",
   "language": "python",
   "name": "python3"
  },
  "language_info": {
   "codemirror_mode": {
    "name": "ipython",
    "version": 3
   },
   "file_extension": ".py",
   "mimetype": "text/x-python",
   "name": "python",
   "nbconvert_exporter": "python",
   "pygments_lexer": "ipython3",
   "version": "3.7.7"
  }
 },
 "nbformat": 4,
 "nbformat_minor": 4
}
